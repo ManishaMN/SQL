{
 "cells": [
  {
   "cell_type": "code",
   "execution_count": 1,
   "metadata": {},
   "outputs": [
    {
     "data": {
      "text/plain": [
       "pandas.core.frame.DataFrame"
      ]
     },
     "execution_count": 1,
     "metadata": {},
     "output_type": "execute_result"
    }
   ],
   "source": [
    "import pandas as pd\n",
    "from pandasql import sqldf\n",
    "from pandasql import load_births\n",
    "\n",
    "births = load_births()\n",
    "\n",
    "type(births)"
   ]
  },
  {
   "cell_type": "code",
   "execution_count": 2,
   "metadata": {},
   "outputs": [
    {
     "name": "stdout",
     "output_type": "stream",
     "text": [
      "date      datetime64[ns]\n",
      "births             int64\n",
      "dtype: object\n"
     ]
    }
   ],
   "source": [
    "print(births.dtypes)"
   ]
  },
  {
   "cell_type": "code",
   "execution_count": 3,
   "metadata": {},
   "outputs": [
    {
     "name": "stdout",
     "output_type": "stream",
     "text": [
      "                         date  births\n",
      "0  1975-01-01 00:00:00.000000  265775\n",
      "1  1975-02-01 00:00:00.000000  241045\n",
      "2  1975-03-01 00:00:00.000000  268849\n",
      "3  1975-04-01 00:00:00.000000  247455\n",
      "4  1975-05-01 00:00:00.000000  254545\n"
     ]
    }
   ],
   "source": [
    "print(sqldf(\"SELECT * FROM births limit 5;\"))"
   ]
  },
  {
   "cell_type": "code",
   "execution_count": 4,
   "metadata": {},
   "outputs": [
    {
     "name": "stdout",
     "output_type": "stream",
     "text": [
      "        date  births\n",
      "0 1975-01-01  265775\n",
      "1 1975-02-01  241045\n",
      "2 1975-03-01  268849\n",
      "3 1975-04-01  247455\n",
      "4 1975-05-01  254545\n"
     ]
    }
   ],
   "source": [
    "print(births.head())"
   ]
  },
  {
   "cell_type": "code",
   "execution_count": 5,
   "metadata": {},
   "outputs": [
    {
     "name": "stdout",
     "output_type": "stream",
     "text": [
      "    DOB  Total Births\n",
      "0  1975       3136965\n",
      "1  1976       6304156\n",
      "2  1979       3333279\n",
      "3  1982       3612258\n",
      "4  1983       7333238\n",
      "5  1986       7308074\n",
      "6  1987       3760561\n",
      "7  1988       3756547\n",
      "8  1990       7718904\n",
      "9  1991      11714356\n"
     ]
    }
   ],
   "source": [
    "q = \"\"\"\n",
    "      SELECT strftime('%Y', date) AS DOB, sum(births) as \"Total Births\"\n",
    "      FROM births\n",
    "      GROUP BY 1\n",
    "      LIMIT 10;  \n",
    "\"\"\"\n",
    "\n",
    "print(sqldf(q))"
   ]
  },
  {
   "cell_type": "code",
   "execution_count": 22,
   "metadata": {},
   "outputs": [
    {
     "data": {
      "text/plain": [
       "pandas.core.frame.DataFrame"
      ]
     },
     "execution_count": 22,
     "metadata": {},
     "output_type": "execute_result"
    }
   ],
   "source": [
    "df1 = sqldf(q)\n",
    "type(df1)"
   ]
  },
  {
   "cell_type": "code",
   "execution_count": 6,
   "metadata": {},
   "outputs": [
    {
     "data": {
      "text/plain": [
       "pandas.core.frame.DataFrame"
      ]
     },
     "execution_count": 6,
     "metadata": {},
     "output_type": "execute_result"
    }
   ],
   "source": [
    "df2 = sqldf(q)\n",
    "type(df2)"
   ]
  },
  {
   "cell_type": "code",
   "execution_count": null,
   "metadata": {},
   "outputs": [],
   "source": []
  }
 ],
 "metadata": {
  "kernelspec": {
   "display_name": "Python 3 (ipykernel)",
   "language": "python",
   "name": "python3"
  },
  "language_info": {
   "codemirror_mode": {
    "name": "ipython",
    "version": 3
   },
   "file_extension": ".py",
   "mimetype": "text/x-python",
   "name": "python",
   "nbconvert_exporter": "python",
   "pygments_lexer": "ipython3",
   "version": "3.10.9"
  }
 },
 "nbformat": 4,
 "nbformat_minor": 2
}
